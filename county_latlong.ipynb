{
 "cells": [
  {
   "cell_type": "code",
   "execution_count": null,
   "metadata": {},
   "outputs": [],
   "source": [
    "from bs4 import BeautifulSoup as bs\n",
    "import geopy.distance\n",
    "import numpy as np\n",
    "import pandas as pd\n",
    "import re\n",
    "import requests"
   ]
  },
  {
   "cell_type": "code",
   "execution_count": null,
   "metadata": {},
   "outputs": [],
   "source": [
    "url = 'https://en.wikipedia.org/wiki/User:Michael_J/County_table'\n",
    "table_class = 'wikitable sortable jquery-tablesorter'\n",
    "response = requests.get(url)\n",
    "print(response)\n",
    "\n",
    "soup = bs(response.text, 'html.parser')\n",
    "table = soup.find('table',{'class':'wikitable'})"
   ]
  },
  {
   "cell_type": "code",
   "execution_count": null,
   "metadata": {},
   "outputs": [],
   "source": [
    "table_df = pd.read_html(str(table))\n",
    "table_df = pd.DataFrame(table_df[0])\n",
    "\n",
    "table_df = table_df.drop(['Sort [1]', 'County Seat(s) [3]', 'Population(2010)', 'Land Areakm²', 'Land Areami²', 'Water Areakm²', 'Water Areami²', 'Total Areakm²', 'Total Areami²'], axis=1)\n",
    "table_df = table_df.set_axis(['State', 'Geoid', 'County', 'Lat', 'Long'], axis=1)\n",
    "table_df.Lat = table_df.Lat.str.replace('+', '').str.replace('°', '')\n",
    "table_df.Long = table_df.Long.str.replace('–', '-').str.replace('°', '')"
   ]
  },
  {
   "cell_type": "code",
   "execution_count": null,
   "metadata": {},
   "outputs": [],
   "source": [
    "table_df.County = table_df.County.str.replace(r'( \\[.*?\\])', '')"
   ]
  },
  {
   "cell_type": "code",
   "execution_count": null,
   "metadata": {},
   "outputs": [],
   "source": [
    "stadiums_df = pd.read_excel('MLB Stadiums.xlsx').reset_index(drop=True)\n",
    "stadiums_df"
   ]
  },
  {
   "cell_type": "code",
   "execution_count": null,
   "metadata": {},
   "outputs": [],
   "source": [
    "min_distance = []\n",
    "for i, j in zip(table_df.Lat, table_df.Long):\n",
    "    county_coords = (float(i), float(j))\n",
    "    distance_list = []\n",
    "    for i, j in zip(stadiums_df.Latitude, stadiums_df.Longitude):\n",
    "        stadium_coords = (float(i), float(j))\n",
    "        distance_list.append(geopy.distance.distance(county_coords, stadium_coords).mi)\n",
    "    min_distance.append(min(distance_list))\n",
    "\n",
    "table_df['min_distance'] = min_distance\n",
    "\n",
    "max_distance = []\n",
    "for i, j in zip(table_df.Lat, table_df.Long):\n",
    "    county_coords = (float(i), float(j))\n",
    "    distance_list = []\n",
    "    for i, j in zip(stadiums_df.Latitude, stadiums_df.Longitude):\n",
    "        stadium_coords = (float(i), float(j))\n",
    "        distance_list.append(geopy.distance.distance(county_coords, stadium_coords).mi)\n",
    "    max_distance.append(max(distance_list))\n",
    "\n",
    "table_df['max_distance'] = max_distance"
   ]
  },
  {
   "cell_type": "code",
   "execution_count": null,
   "metadata": {},
   "outputs": [],
   "source": [
    "min_distance = None\n",
    "closest_team = []\n",
    "n = 0\n",
    "for i, j in zip(table_df.Lat, table_df.Long):\n",
    "    county_coords = (float(i), float(j))\n",
    "    distance_list = []\n",
    "    team_list = []\n",
    "    for i, j, k in zip(stadiums_df.Latitude, stadiums_df.Longitude, stadiums_df.Team):\n",
    "        stadium_coords = (float(i), float(j))\n",
    "        distance_list.append(geopy.distance.distance(county_coords, stadium_coords).mi)\n",
    "        team_list.append(k)\n",
    "    min_distance = min(distance_list)\n",
    "    min_index = distance_list.index(min_distance)\n",
    "    if min_distance == table_df.at[n, 'min_distance']:\n",
    "        closest_team.append(team_list[min_index])\n",
    "    n += 1\n",
    "\n",
    "table_df['closest_team'] = closest_team\n",
    "\n",
    "max_distance = None\n",
    "furthest_team = []\n",
    "n = 0\n",
    "for i, j in zip(table_df.Lat, table_df.Long):\n",
    "    county_coords = (float(i), float(j))\n",
    "    distance_list = []\n",
    "    team_list = []\n",
    "    for i, j, k in zip(stadiums_df.Latitude, stadiums_df.Longitude, stadiums_df.Team):\n",
    "        stadium_coords = (float(i), float(j))\n",
    "        distance_list.append(geopy.distance.distance(county_coords, stadium_coords).mi)\n",
    "        team_list.append(k)\n",
    "    max_distance = max(distance_list)\n",
    "    max_index = distance_list.index(max_distance)\n",
    "    if max_distance == table_df.at[n, 'max_distance']:\n",
    "        furthest_team.append(team_list[max_index])\n",
    "    n += 1\n",
    "\n",
    "table_df['furthest_team'] = furthest_team"
   ]
  },
  {
   "cell_type": "code",
   "execution_count": null,
   "metadata": {},
   "outputs": [],
   "source": [
    "table_df.to_excel('county_latlong.xlsx')"
   ]
  },
  {
   "cell_type": "code",
   "execution_count": null,
   "metadata": {},
   "outputs": [],
   "source": [
    "table_df"
   ]
  }
 ],
 "metadata": {
  "interpreter": {
   "hash": "f5ad2cfef2395469aef3fbf967dad19ad5416ee0053bf8e1f8a74cfc8f8707fe"
  },
  "kernelspec": {
   "display_name": "Python 3.9.7 ('base')",
   "language": "python",
   "name": "python3"
  },
  "language_info": {
   "codemirror_mode": {
    "name": "ipython",
    "version": 3
   },
   "file_extension": ".py",
   "mimetype": "text/x-python",
   "name": "python",
   "nbconvert_exporter": "python",
   "pygments_lexer": "ipython3",
   "version": "3.9.7"
  },
  "orig_nbformat": 4
 },
 "nbformat": 4,
 "nbformat_minor": 2
}
